{
 "cells": [
  {
   "cell_type": "markdown",
   "id": "6a1c9b41",
   "metadata": {
    "id": "dqZ-nhxiganh",
    "papermill": {
     "duration": 0.012846,
     "end_time": "2023-07-14T08:16:33.386505",
     "exception": false,
     "start_time": "2023-07-14T08:16:33.373659",
     "status": "completed"
    },
    "tags": []
   },
   "source": [
    "# **Financial Market News - Sentiment Analysis**"
   ]
  },
  {
   "cell_type": "markdown",
   "id": "a4e14120",
   "metadata": {
    "id": "gScHkw6jjrLo",
    "papermill": {
     "duration": 0.009679,
     "end_time": "2023-07-14T08:16:33.406905",
     "exception": false,
     "start_time": "2023-07-14T08:16:33.397226",
     "status": "completed"
    },
    "tags": []
   },
   "source": [
    "**This is a data (dummy) of Financial Market Top 25 News for the Day and Task is to Train and Predict Model for Overall Sentiment Analysis**"
   ]
  },
  {
   "cell_type": "markdown",
   "id": "fc6461df",
   "metadata": {
    "id": "-Vbnt9CciKJP",
    "papermill": {
     "duration": 0.01011,
     "end_time": "2023-07-14T08:16:33.427359",
     "exception": false,
     "start_time": "2023-07-14T08:16:33.417249",
     "status": "completed"
    },
    "tags": []
   },
   "source": [
    "## **Data Source**"
   ]
  },
  {
   "cell_type": "markdown",
   "id": "977cb0ca",
   "metadata": {
    "id": "sGcv5WqQiNyl",
    "papermill": {
     "duration": 0.010623,
     "end_time": "2023-07-14T08:16:33.447909",
     "exception": false,
     "start_time": "2023-07-14T08:16:33.437286",
     "status": "completed"
    },
    "tags": []
   },
   "source": [
    "* Dataset Name : Financial Market News\n",
    "* Data Source : YBI Foundation Github\n",
    "* Website : \"https://github.com/YBIFoundation/Dataset/blob/main/Financial%20Market%20News.csv\"\n"
   ]
  },
  {
   "cell_type": "markdown",
   "id": "04049421",
   "metadata": {
    "id": "r7GrZzX0iTlV",
    "papermill": {
     "duration": 0.010199,
     "end_time": "2023-07-14T08:16:33.468250",
     "exception": false,
     "start_time": "2023-07-14T08:16:33.458051",
     "status": "completed"
    },
    "tags": []
   },
   "source": [
    "## **Import Library**"
   ]
  },
  {
   "cell_type": "code",
   "execution_count": 1,
   "id": "b48ad423",
   "metadata": {
    "execution": {
     "iopub.execute_input": "2023-07-14T08:16:33.491487Z",
     "iopub.status.busy": "2023-07-14T08:16:33.491005Z",
     "iopub.status.idle": "2023-07-14T08:16:33.501385Z",
     "shell.execute_reply": "2023-07-14T08:16:33.500337Z"
    },
    "id": "UkK6NH9DiW-X",
    "papermill": {
     "duration": 0.025255,
     "end_time": "2023-07-14T08:16:33.504278",
     "exception": false,
     "start_time": "2023-07-14T08:16:33.479023",
     "status": "completed"
    },
    "tags": []
   },
   "outputs": [],
   "source": [
    "import pandas as pd"
   ]
  },
  {
   "cell_type": "markdown",
   "id": "0a370bae",
   "metadata": {
    "id": "9lHPQj1XiOUc",
    "papermill": {
     "duration": 0.009366,
     "end_time": "2023-07-14T08:16:33.523619",
     "exception": false,
     "start_time": "2023-07-14T08:16:33.514253",
     "status": "completed"
    },
    "tags": []
   },
   "source": [
    "## **Import Data**"
   ]
  },
  {
   "cell_type": "code",
   "execution_count": 2,
   "id": "daa6dde7",
   "metadata": {
    "execution": {
     "iopub.execute_input": "2023-07-14T08:16:33.545397Z",
     "iopub.status.busy": "2023-07-14T08:16:33.544889Z",
     "iopub.status.idle": "2023-07-14T08:16:34.590481Z",
     "shell.execute_reply": "2023-07-14T08:16:34.588640Z"
    },
    "id": "zcU1fdnGho6M",
    "papermill": {
     "duration": 1.060139,
     "end_time": "2023-07-14T08:16:34.593559",
     "exception": false,
     "start_time": "2023-07-14T08:16:33.533420",
     "status": "completed"
    },
    "tags": []
   },
   "outputs": [],
   "source": [
    "df = pd.read_csv('https://raw.githubusercontent.com/YBIFoundation/Dataset/main/Financial%20Market%20News.csv', encoding='latin-1')"
   ]
  },
  {
   "cell_type": "code",
   "execution_count": 3,
   "id": "97f1cc73",
   "metadata": {
    "execution": {
     "iopub.execute_input": "2023-07-14T08:16:34.616768Z",
     "iopub.status.busy": "2023-07-14T08:16:34.616298Z",
     "iopub.status.idle": "2023-07-14T08:16:34.672615Z",
     "shell.execute_reply": "2023-07-14T08:16:34.671214Z"
    },
    "id": "qcm5lq9Qx9WQ",
    "outputId": "f05e05a5-6e1a-4ead-d26a-bccbf4b7546c",
    "papermill": {
     "duration": 0.071492,
     "end_time": "2023-07-14T08:16:34.675717",
     "exception": false,
     "start_time": "2023-07-14T08:16:34.604225",
     "status": "completed"
    },
    "tags": []
   },
   "outputs": [
    {
     "data": {
      "text/html": [
       "<div>\n",
       "<style scoped>\n",
       "    .dataframe tbody tr th:only-of-type {\n",
       "        vertical-align: middle;\n",
       "    }\n",
       "\n",
       "    .dataframe tbody tr th {\n",
       "        vertical-align: top;\n",
       "    }\n",
       "\n",
       "    .dataframe thead th {\n",
       "        text-align: right;\n",
       "    }\n",
       "</style>\n",
       "<table border=\"1\" class=\"dataframe\">\n",
       "  <thead>\n",
       "    <tr style=\"text-align: right;\">\n",
       "      <th></th>\n",
       "      <th>Date</th>\n",
       "      <th>Label</th>\n",
       "      <th>News 1</th>\n",
       "      <th>News 2</th>\n",
       "      <th>News 3</th>\n",
       "      <th>News 4</th>\n",
       "      <th>News 5</th>\n",
       "      <th>News 6</th>\n",
       "      <th>News 7</th>\n",
       "      <th>News 8</th>\n",
       "      <th>...</th>\n",
       "      <th>News 16</th>\n",
       "      <th>News 17</th>\n",
       "      <th>News 18</th>\n",
       "      <th>News 19</th>\n",
       "      <th>News 20</th>\n",
       "      <th>News 21</th>\n",
       "      <th>News 22</th>\n",
       "      <th>News 23</th>\n",
       "      <th>News 24</th>\n",
       "      <th>News 25</th>\n",
       "    </tr>\n",
       "  </thead>\n",
       "  <tbody>\n",
       "    <tr>\n",
       "      <th>0</th>\n",
       "      <td>01-01-2010</td>\n",
       "      <td>0</td>\n",
       "      <td>McIlroy's men catch cold from Gudjonsson</td>\n",
       "      <td>Obituary: Brian Walsh</td>\n",
       "      <td>Workplace blues leave employers in the red</td>\n",
       "      <td>Classical review: Rattle</td>\n",
       "      <td>Dance review: Merce Cunningham</td>\n",
       "      <td>Genetic tests to be used in setting premiums</td>\n",
       "      <td>Opera review: La Bohème</td>\n",
       "      <td>Pop review: Britney Spears</td>\n",
       "      <td>...</td>\n",
       "      <td>Finland 0 - 0 England</td>\n",
       "      <td>Healy a marked man</td>\n",
       "      <td>Happy birthday Harpers &amp; Queen</td>\n",
       "      <td>Win unlimited access to the Raindance film fes...</td>\n",
       "      <td>Labour pledges £800m to bridge north-south divide</td>\n",
       "      <td>Wales: Lib-Lab pact firm despite resignation</td>\n",
       "      <td>Donald Dewar</td>\n",
       "      <td>Regenerating homes  regenerates well-being in ...</td>\n",
       "      <td>Win £100 worth of underwear</td>\n",
       "      <td>TV guide: Random views</td>\n",
       "    </tr>\n",
       "    <tr>\n",
       "      <th>1</th>\n",
       "      <td>02-01-2010</td>\n",
       "      <td>0</td>\n",
       "      <td>Warning from history points to crash</td>\n",
       "      <td>Investors flee to dollar haven</td>\n",
       "      <td>Banks and tobacco in favour</td>\n",
       "      <td>Review: Llama Farmers</td>\n",
       "      <td>War jitters lead to sell-off</td>\n",
       "      <td>Your not-so-secret history</td>\n",
       "      <td>Review: The Northern Sinfonia</td>\n",
       "      <td>Review: Hysteria</td>\n",
       "      <td>...</td>\n",
       "      <td>Why Wenger will stick to his Gunners</td>\n",
       "      <td>Out of luck England hit rock bottom</td>\n",
       "      <td>Wilkinson out of his depth</td>\n",
       "      <td>Kinsella sparks Irish power play</td>\n",
       "      <td>Brown banished as Scots rebound</td>\n",
       "      <td>Battling Wales cling to lifeline</td>\n",
       "      <td>Ehiogu close to sealing Boro move</td>\n",
       "      <td>Man-to-man marking</td>\n",
       "      <td>Match stats</td>\n",
       "      <td>French referee at centre of storm is no strang...</td>\n",
       "    </tr>\n",
       "    <tr>\n",
       "      <th>2</th>\n",
       "      <td>03-01-2010</td>\n",
       "      <td>0</td>\n",
       "      <td>Comment: Why Israel's peaceniks feel betrayed</td>\n",
       "      <td>Court deals blow to seizure of drug assets</td>\n",
       "      <td>An ideal target for spooks</td>\n",
       "      <td>World steps between two sides intent on war</td>\n",
       "      <td>What the region's papers say</td>\n",
       "      <td>Comment: Fear and rage in Palestine</td>\n",
       "      <td>Poverty and resentment fuels Palestinian fury</td>\n",
       "      <td>Republican feud fear as dissident is killed</td>\n",
       "      <td>...</td>\n",
       "      <td>FTSE goes upwardly mobile</td>\n",
       "      <td>At this price?  BP Amoco</td>\n",
       "      <td>Go fish</td>\n",
       "      <td>Bosnian Serb blows himself up to evade law</td>\n",
       "      <td>Orange float delayed to 2001</td>\n",
       "      <td>Angry factory workers root out fear, favours a...</td>\n",
       "      <td>Smith defied advice on dome payout</td>\n",
       "      <td>Xerox takes the axe to jobs</td>\n",
       "      <td>Comment: Refugees in Britain</td>\n",
       "      <td>Maverick who sparked the new intifada</td>\n",
       "    </tr>\n",
       "    <tr>\n",
       "      <th>3</th>\n",
       "      <td>04-01-2010</td>\n",
       "      <td>1</td>\n",
       "      <td>£750,000-a-goal Weah aims parting shot</td>\n",
       "      <td>Newcastle pay for Fletcher years</td>\n",
       "      <td>Brown sent to the stands for Scotland qualifier</td>\n",
       "      <td>Tourists wary of breaking new ground</td>\n",
       "      <td>Canary Wharf climbs into the FTSE 100</td>\n",
       "      <td>Review: Bill Bailey</td>\n",
       "      <td>Review: Classical</td>\n",
       "      <td>Review: New Contemporaries 2000</td>\n",
       "      <td>...</td>\n",
       "      <td>More cash on way for counties</td>\n",
       "      <td>Cairns carries Kiwis to victory</td>\n",
       "      <td>Year of Blanchflower's flourish when Spurs sto...</td>\n",
       "      <td>New direct approach brings only pay-per-blues</td>\n",
       "      <td>Third Division  round-up</td>\n",
       "      <td>Second Division  round-up</td>\n",
       "      <td>First Division  round-up</td>\n",
       "      <td>McLean ends his career with a punch</td>\n",
       "      <td>Heskey grabs triple crown</td>\n",
       "      <td>Weah on his way as City march on</td>\n",
       "    </tr>\n",
       "    <tr>\n",
       "      <th>4</th>\n",
       "      <td>05-01-2010</td>\n",
       "      <td>1</td>\n",
       "      <td>Leeds arrive in Turkey to the silence of the fans</td>\n",
       "      <td>One woman's vision offers loan lifeline</td>\n",
       "      <td>Working Lives: How world leaders worked</td>\n",
       "      <td>Working Lives: Tricks of the trade</td>\n",
       "      <td>Working Lives: six-hour days, long lunches and...</td>\n",
       "      <td>Pop review: We Love UK</td>\n",
       "      <td>World music review: Marisa Monte</td>\n",
       "      <td>Art review:  Hollingsworth/Heyer</td>\n",
       "      <td>...</td>\n",
       "      <td>Duisenberg in double trouble</td>\n",
       "      <td>Pru to cut pension charges</td>\n",
       "      <td>Art review: Paul Graham</td>\n",
       "      <td>Shearer shot sparks Boro humiliation</td>\n",
       "      <td>Ridsdale's lingering fears as Leeds revisit Tu...</td>\n",
       "      <td>Champions League: Rangers v Galatasaray</td>\n",
       "      <td>Champions League: Lazio v Arsenal</td>\n",
       "      <td>Lazio 1 - 1 Arsenal</td>\n",
       "      <td>England in Pakistan</td>\n",
       "      <td>England given olive-branch reception</td>\n",
       "    </tr>\n",
       "  </tbody>\n",
       "</table>\n",
       "<p>5 rows × 27 columns</p>\n",
       "</div>"
      ],
      "text/plain": [
       "         Date  Label                                             News 1  \\\n",
       "0  01-01-2010      0           McIlroy's men catch cold from Gudjonsson   \n",
       "1  02-01-2010      0               Warning from history points to crash   \n",
       "2  03-01-2010      0      Comment: Why Israel's peaceniks feel betrayed   \n",
       "3  04-01-2010      1             £750,000-a-goal Weah aims parting shot   \n",
       "4  05-01-2010      1  Leeds arrive in Turkey to the silence of the fans   \n",
       "\n",
       "                                       News 2  \\\n",
       "0                       Obituary: Brian Walsh   \n",
       "1              Investors flee to dollar haven   \n",
       "2  Court deals blow to seizure of drug assets   \n",
       "3            Newcastle pay for Fletcher years   \n",
       "4     One woman's vision offers loan lifeline   \n",
       "\n",
       "                                            News 3  \\\n",
       "0       Workplace blues leave employers in the red   \n",
       "1                      Banks and tobacco in favour   \n",
       "2                       An ideal target for spooks   \n",
       "3  Brown sent to the stands for Scotland qualifier   \n",
       "4          Working Lives: How world leaders worked   \n",
       "\n",
       "                                        News 4  \\\n",
       "0                     Classical review: Rattle   \n",
       "1                        Review: Llama Farmers   \n",
       "2  World steps between two sides intent on war   \n",
       "3         Tourists wary of breaking new ground   \n",
       "4           Working Lives: Tricks of the trade   \n",
       "\n",
       "                                              News 5  \\\n",
       "0                     Dance review: Merce Cunningham   \n",
       "1                       War jitters lead to sell-off   \n",
       "2                       What the region's papers say   \n",
       "3              Canary Wharf climbs into the FTSE 100   \n",
       "4  Working Lives: six-hour days, long lunches and...   \n",
       "\n",
       "                                         News 6  \\\n",
       "0  Genetic tests to be used in setting premiums   \n",
       "1                    Your not-so-secret history   \n",
       "2           Comment: Fear and rage in Palestine   \n",
       "3                           Review: Bill Bailey   \n",
       "4                        Pop review: We Love UK   \n",
       "\n",
       "                                          News 7  \\\n",
       "0                        Opera review: La Bohème   \n",
       "1                  Review: The Northern Sinfonia   \n",
       "2  Poverty and resentment fuels Palestinian fury   \n",
       "3                              Review: Classical   \n",
       "4               World music review: Marisa Monte   \n",
       "\n",
       "                                        News 8  ...  \\\n",
       "0                   Pop review: Britney Spears  ...   \n",
       "1                             Review: Hysteria  ...   \n",
       "2  Republican feud fear as dissident is killed  ...   \n",
       "3              Review: New Contemporaries 2000  ...   \n",
       "4             Art review:  Hollingsworth/Heyer  ...   \n",
       "\n",
       "                                News 16                              News 17  \\\n",
       "0                 Finland 0 - 0 England                   Healy a marked man   \n",
       "1  Why Wenger will stick to his Gunners  Out of luck England hit rock bottom   \n",
       "2             FTSE goes upwardly mobile             At this price?  BP Amoco   \n",
       "3         More cash on way for counties      Cairns carries Kiwis to victory   \n",
       "4          Duisenberg in double trouble           Pru to cut pension charges   \n",
       "\n",
       "                                             News 18  \\\n",
       "0                     Happy birthday Harpers & Queen   \n",
       "1                         Wilkinson out of his depth   \n",
       "2                                            Go fish   \n",
       "3  Year of Blanchflower's flourish when Spurs sto...   \n",
       "4                            Art review: Paul Graham   \n",
       "\n",
       "                                             News 19  \\\n",
       "0  Win unlimited access to the Raindance film fes...   \n",
       "1                   Kinsella sparks Irish power play   \n",
       "2         Bosnian Serb blows himself up to evade law   \n",
       "3      New direct approach brings only pay-per-blues   \n",
       "4               Shearer shot sparks Boro humiliation   \n",
       "\n",
       "                                             News 20  \\\n",
       "0  Labour pledges £800m to bridge north-south divide   \n",
       "1                    Brown banished as Scots rebound   \n",
       "2                       Orange float delayed to 2001   \n",
       "3                           Third Division  round-up   \n",
       "4  Ridsdale's lingering fears as Leeds revisit Tu...   \n",
       "\n",
       "                                             News 21  \\\n",
       "0       Wales: Lib-Lab pact firm despite resignation   \n",
       "1                   Battling Wales cling to lifeline   \n",
       "2  Angry factory workers root out fear, favours a...   \n",
       "3                          Second Division  round-up   \n",
       "4            Champions League: Rangers v Galatasaray   \n",
       "\n",
       "                              News 22  \\\n",
       "0                        Donald Dewar   \n",
       "1   Ehiogu close to sealing Boro move   \n",
       "2  Smith defied advice on dome payout   \n",
       "3            First Division  round-up   \n",
       "4   Champions League: Lazio v Arsenal   \n",
       "\n",
       "                                             News 23  \\\n",
       "0  Regenerating homes  regenerates well-being in ...   \n",
       "1                                 Man-to-man marking   \n",
       "2                        Xerox takes the axe to jobs   \n",
       "3                McLean ends his career with a punch   \n",
       "4                                Lazio 1 - 1 Arsenal   \n",
       "\n",
       "                        News 24  \\\n",
       "0   Win £100 worth of underwear   \n",
       "1                   Match stats   \n",
       "2  Comment: Refugees in Britain   \n",
       "3     Heskey grabs triple crown   \n",
       "4           England in Pakistan   \n",
       "\n",
       "                                             News 25  \n",
       "0                             TV guide: Random views  \n",
       "1  French referee at centre of storm is no strang...  \n",
       "2              Maverick who sparked the new intifada  \n",
       "3                   Weah on his way as City march on  \n",
       "4               England given olive-branch reception  \n",
       "\n",
       "[5 rows x 27 columns]"
      ]
     },
     "execution_count": 3,
     "metadata": {},
     "output_type": "execute_result"
    }
   ],
   "source": [
    "df.head()"
   ]
  },
  {
   "cell_type": "markdown",
   "id": "8e51d4f7",
   "metadata": {
    "id": "7PUnimBoiX-x",
    "papermill": {
     "duration": 0.011057,
     "end_time": "2023-07-14T08:16:34.698336",
     "exception": false,
     "start_time": "2023-07-14T08:16:34.687279",
     "status": "completed"
    },
    "tags": []
   },
   "source": [
    "## **Describe Data**"
   ]
  },
  {
   "cell_type": "code",
   "execution_count": 4,
   "id": "99171de5",
   "metadata": {
    "execution": {
     "iopub.execute_input": "2023-07-14T08:16:34.723703Z",
     "iopub.status.busy": "2023-07-14T08:16:34.723228Z",
     "iopub.status.idle": "2023-07-14T08:16:34.772401Z",
     "shell.execute_reply": "2023-07-14T08:16:34.770968Z"
    },
    "id": "fBgcbdfryjsQ",
    "outputId": "c7d8df91-404f-4e82-9fdb-39468c03bc7c",
    "papermill": {
     "duration": 0.0657,
     "end_time": "2023-07-14T08:16:34.775169",
     "exception": false,
     "start_time": "2023-07-14T08:16:34.709469",
     "status": "completed"
    },
    "tags": []
   },
   "outputs": [
    {
     "name": "stdout",
     "output_type": "stream",
     "text": [
      "<class 'pandas.core.frame.DataFrame'>\n",
      "RangeIndex: 4101 entries, 0 to 4100\n",
      "Data columns (total 27 columns):\n",
      " #   Column   Non-Null Count  Dtype \n",
      "---  ------   --------------  ----- \n",
      " 0   Date     4101 non-null   object\n",
      " 1   Label    4101 non-null   int64 \n",
      " 2   News 1   4101 non-null   object\n",
      " 3   News 2   4101 non-null   object\n",
      " 4   News 3   4101 non-null   object\n",
      " 5   News 4   4101 non-null   object\n",
      " 6   News 5   4101 non-null   object\n",
      " 7   News 6   4101 non-null   object\n",
      " 8   News 7   4101 non-null   object\n",
      " 9   News 8   4101 non-null   object\n",
      " 10  News 9   4101 non-null   object\n",
      " 11  News 10  4101 non-null   object\n",
      " 12  News 11  4101 non-null   object\n",
      " 13  News 12  4101 non-null   object\n",
      " 14  News 13  4101 non-null   object\n",
      " 15  News 14  4101 non-null   object\n",
      " 16  News 15  4101 non-null   object\n",
      " 17  News 16  4101 non-null   object\n",
      " 18  News 17  4101 non-null   object\n",
      " 19  News 18  4101 non-null   object\n",
      " 20  News 19  4101 non-null   object\n",
      " 21  News 20  4101 non-null   object\n",
      " 22  News 21  4101 non-null   object\n",
      " 23  News 22  4101 non-null   object\n",
      " 24  News 23  4100 non-null   object\n",
      " 25  News 24  4098 non-null   object\n",
      " 26  News 25  4098 non-null   object\n",
      "dtypes: int64(1), object(26)\n",
      "memory usage: 865.2+ KB\n"
     ]
    }
   ],
   "source": [
    "df.info()"
   ]
  },
  {
   "cell_type": "code",
   "execution_count": 5,
   "id": "9b4e88b9",
   "metadata": {
    "execution": {
     "iopub.execute_input": "2023-07-14T08:16:34.798646Z",
     "iopub.status.busy": "2023-07-14T08:16:34.798175Z",
     "iopub.status.idle": "2023-07-14T08:16:34.817550Z",
     "shell.execute_reply": "2023-07-14T08:16:34.816075Z"
    },
    "id": "kG15arusiZ8Z",
    "outputId": "41971edb-b763-496d-c09b-ca63d2e38d6b",
    "papermill": {
     "duration": 0.034102,
     "end_time": "2023-07-14T08:16:34.820080",
     "exception": false,
     "start_time": "2023-07-14T08:16:34.785978",
     "status": "completed"
    },
    "tags": []
   },
   "outputs": [
    {
     "data": {
      "text/html": [
       "<div>\n",
       "<style scoped>\n",
       "    .dataframe tbody tr th:only-of-type {\n",
       "        vertical-align: middle;\n",
       "    }\n",
       "\n",
       "    .dataframe tbody tr th {\n",
       "        vertical-align: top;\n",
       "    }\n",
       "\n",
       "    .dataframe thead th {\n",
       "        text-align: right;\n",
       "    }\n",
       "</style>\n",
       "<table border=\"1\" class=\"dataframe\">\n",
       "  <thead>\n",
       "    <tr style=\"text-align: right;\">\n",
       "      <th></th>\n",
       "      <th>Label</th>\n",
       "    </tr>\n",
       "  </thead>\n",
       "  <tbody>\n",
       "    <tr>\n",
       "      <th>count</th>\n",
       "      <td>4101.000000</td>\n",
       "    </tr>\n",
       "    <tr>\n",
       "      <th>mean</th>\n",
       "      <td>0.528164</td>\n",
       "    </tr>\n",
       "    <tr>\n",
       "      <th>std</th>\n",
       "      <td>0.499267</td>\n",
       "    </tr>\n",
       "    <tr>\n",
       "      <th>min</th>\n",
       "      <td>0.000000</td>\n",
       "    </tr>\n",
       "    <tr>\n",
       "      <th>25%</th>\n",
       "      <td>0.000000</td>\n",
       "    </tr>\n",
       "    <tr>\n",
       "      <th>50%</th>\n",
       "      <td>1.000000</td>\n",
       "    </tr>\n",
       "    <tr>\n",
       "      <th>75%</th>\n",
       "      <td>1.000000</td>\n",
       "    </tr>\n",
       "    <tr>\n",
       "      <th>max</th>\n",
       "      <td>1.000000</td>\n",
       "    </tr>\n",
       "  </tbody>\n",
       "</table>\n",
       "</div>"
      ],
      "text/plain": [
       "             Label\n",
       "count  4101.000000\n",
       "mean      0.528164\n",
       "std       0.499267\n",
       "min       0.000000\n",
       "25%       0.000000\n",
       "50%       1.000000\n",
       "75%       1.000000\n",
       "max       1.000000"
      ]
     },
     "execution_count": 5,
     "metadata": {},
     "output_type": "execute_result"
    }
   ],
   "source": [
    "df.describe()"
   ]
  },
  {
   "cell_type": "code",
   "execution_count": 6,
   "id": "ad1b94fc",
   "metadata": {
    "execution": {
     "iopub.execute_input": "2023-07-14T08:16:34.843689Z",
     "iopub.status.busy": "2023-07-14T08:16:34.843262Z",
     "iopub.status.idle": "2023-07-14T08:16:34.850274Z",
     "shell.execute_reply": "2023-07-14T08:16:34.849040Z"
    },
    "id": "PJbUZM5fys5b",
    "outputId": "d56fa1cb-0d00-4201-ecac-3f8580632b8f",
    "papermill": {
     "duration": 0.021777,
     "end_time": "2023-07-14T08:16:34.852824",
     "exception": false,
     "start_time": "2023-07-14T08:16:34.831047",
     "status": "completed"
    },
    "tags": []
   },
   "outputs": [
    {
     "data": {
      "text/plain": [
       "(4101, 27)"
      ]
     },
     "execution_count": 6,
     "metadata": {},
     "output_type": "execute_result"
    }
   ],
   "source": [
    "df.shape"
   ]
  },
  {
   "cell_type": "code",
   "execution_count": 7,
   "id": "b68cacc5",
   "metadata": {
    "execution": {
     "iopub.execute_input": "2023-07-14T08:16:34.877324Z",
     "iopub.status.busy": "2023-07-14T08:16:34.876854Z",
     "iopub.status.idle": "2023-07-14T08:16:34.884964Z",
     "shell.execute_reply": "2023-07-14T08:16:34.883646Z"
    },
    "id": "d_GQRGrDyvQU",
    "outputId": "fd611273-6138-4d84-84ed-ccc7b4ccbc24",
    "papermill": {
     "duration": 0.023143,
     "end_time": "2023-07-14T08:16:34.887459",
     "exception": false,
     "start_time": "2023-07-14T08:16:34.864316",
     "status": "completed"
    },
    "tags": []
   },
   "outputs": [
    {
     "data": {
      "text/plain": [
       "Index(['Date', 'Label', 'News 1', 'News 2', 'News 3', 'News 4', 'News 5',\n",
       "       'News 6', 'News 7', 'News 8', 'News 9', 'News 10', 'News 11', 'News 12',\n",
       "       'News 13', 'News 14', 'News 15', 'News 16', 'News 17', 'News 18',\n",
       "       'News 19', 'News 20', 'News 21', 'News 22', 'News 23', 'News 24',\n",
       "       'News 25'],\n",
       "      dtype='object')"
      ]
     },
     "execution_count": 7,
     "metadata": {},
     "output_type": "execute_result"
    }
   ],
   "source": [
    "df.columns"
   ]
  },
  {
   "cell_type": "markdown",
   "id": "a182c1f5",
   "metadata": {
    "id": "oBGX4Ekniriz",
    "papermill": {
     "duration": 0.010889,
     "end_time": "2023-07-14T08:16:34.910730",
     "exception": false,
     "start_time": "2023-07-14T08:16:34.899841",
     "status": "completed"
    },
    "tags": []
   },
   "source": [
    "## **Data Visualization**"
   ]
  },
  {
   "cell_type": "code",
   "execution_count": 8,
   "id": "f0db12b4",
   "metadata": {
    "execution": {
     "iopub.execute_input": "2023-07-14T08:16:34.936364Z",
     "iopub.status.busy": "2023-07-14T08:16:34.935323Z",
     "iopub.status.idle": "2023-07-14T08:16:35.334630Z",
     "shell.execute_reply": "2023-07-14T08:16:35.333355Z"
    },
    "id": "I2SPE244nrm-",
    "outputId": "4e7ea608-0820-4e2e-ee9e-7d9f27aa33f1",
    "papermill": {
     "duration": 0.414712,
     "end_time": "2023-07-14T08:16:35.337502",
     "exception": false,
     "start_time": "2023-07-14T08:16:34.922790",
     "status": "completed"
    },
    "tags": []
   },
   "outputs": [
    {
     "data": {
      "image/png": "[encoded data removed]",
      "text/plain": [
       "<Figure size 640x480 with 1 Axes>"
      ]
     },
     "metadata": {},
     "output_type": "display_data"
    }
   ],
   "source": [
    "import matplotlib.pyplot as plt\n",
    "import pandas as pd\n",
    "\n",
    "label_counts = df.groupby(['Date', 'Label']).size().unstack()\n",
    "\n",
    "label_counts.plot(kind='line', marker='o')\n",
    "plt.title('Label Frequency over Time')\n",
    "plt.xlabel('Date')\n",
    "plt.ylabel('Frequency')\n",
    "\n",
    "plt.legend()\n",
    "plt.show()\n",
    "\n",
    "\n"
   ]
  },
  {
   "cell_type": "markdown",
   "id": "9e9c78b3",
   "metadata": {
    "id": "UqfyPOCYiiww",
    "papermill": {
     "duration": 0.012219,
     "end_time": "2023-07-14T08:16:35.361970",
     "exception": false,
     "start_time": "2023-07-14T08:16:35.349751",
     "status": "completed"
    },
    "tags": []
   },
   "source": [
    "## **Data Preprocessing**"
   ]
  },
  {
   "cell_type": "code",
   "execution_count": 9,
   "id": "30ab480a",
   "metadata": {
    "execution": {
     "iopub.execute_input": "2023-07-14T08:16:35.388329Z",
     "iopub.status.busy": "2023-07-14T08:16:35.387869Z",
     "iopub.status.idle": "2023-07-14T08:16:35.395499Z",
     "shell.execute_reply": "2023-07-14T08:16:35.394658Z"
    },
    "id": "3cyr3fbGin0A",
    "outputId": "fd6b0b18-e13c-496b-b21d-26747ef5400e",
    "papermill": {
     "duration": 0.024442,
     "end_time": "2023-07-14T08:16:35.398455",
     "exception": false,
     "start_time": "2023-07-14T08:16:35.374013",
     "status": "completed"
    },
    "tags": []
   },
   "outputs": [
    {
     "data": {
      "text/plain": [
       "\"Warning from history points to crash Investors flee to dollar haven Banks and tobacco in favour Review: Llama Farmers War jitters lead to sell-off Your not-so-secret history Review: The Northern Sinfonia Review: Hysteria Review: The Guardsman Opera: The Marriage of Figaro Review: The Turk in Italy Deutsche spells out its plans for diversification Traders' panic sends oil prices skyward TV sport chief leaves home over romance Leader: Hi-tech twitch Why Wenger will stick to his Gunners Out of luck England hit rock bottom Wilkinson out of his depth Kinsella sparks Irish power play Brown banished as Scots rebound Battling Wales cling to lifeline Ehiogu close to sealing Boro move Man-to-man marking Match stats French referee at centre of storm is no stranger to controversy\""
      ]
     },
     "execution_count": 9,
     "metadata": {},
     "output_type": "execute_result"
    }
   ],
   "source": [
    "' '.join(str(x) for x in df.iloc[1,2:27])"
   ]
  },
  {
   "cell_type": "code",
   "execution_count": 10,
   "id": "0284a64a",
   "metadata": {
    "execution": {
     "iopub.execute_input": "2023-07-14T08:16:35.425805Z",
     "iopub.status.busy": "2023-07-14T08:16:35.425288Z",
     "iopub.status.idle": "2023-07-14T08:16:35.433939Z",
     "shell.execute_reply": "2023-07-14T08:16:35.432482Z"
    },
    "id": "srKWrEYRdvBc",
    "outputId": "e342ad4c-f998-40ad-bd17-bb494e254f97",
    "papermill": {
     "duration": 0.025815,
     "end_time": "2023-07-14T08:16:35.436789",
     "exception": false,
     "start_time": "2023-07-14T08:16:35.410974",
     "status": "completed"
    },
    "tags": []
   },
   "outputs": [
    {
     "data": {
      "text/plain": [
       "4101"
      ]
     },
     "execution_count": 10,
     "metadata": {},
     "output_type": "execute_result"
    }
   ],
   "source": [
    "len(df.index)"
   ]
  },
  {
   "cell_type": "code",
   "execution_count": 11,
   "id": "c63423f1",
   "metadata": {
    "execution": {
     "iopub.execute_input": "2023-07-14T08:16:35.463953Z",
     "iopub.status.busy": "2023-07-14T08:16:35.463482Z",
     "iopub.status.idle": "2023-07-14T08:16:36.240612Z",
     "shell.execute_reply": "2023-07-14T08:16:36.239362Z"
    },
    "id": "TJ0X67jtd4_D",
    "papermill": {
     "duration": 0.794229,
     "end_time": "2023-07-14T08:16:36.243810",
     "exception": false,
     "start_time": "2023-07-14T08:16:35.449581",
     "status": "completed"
    },
    "tags": []
   },
   "outputs": [],
   "source": [
    "news = []\n",
    "for row in range(0,len(df.index)):\n",
    "   news.append(' '.join(str(x) for x in df.iloc[row,2:27]))"
   ]
  },
  {
   "cell_type": "code",
   "execution_count": 12,
   "id": "bcbf04d0",
   "metadata": {
    "execution": {
     "iopub.execute_input": "2023-07-14T08:16:36.270625Z",
     "iopub.status.busy": "2023-07-14T08:16:36.270134Z",
     "iopub.status.idle": "2023-07-14T08:16:36.279482Z",
     "shell.execute_reply": "2023-07-14T08:16:36.277674Z"
    },
    "id": "p_NSm3wfeWp4",
    "outputId": "bab9a80f-6112-4973-bad8-0dfa673855df",
    "papermill": {
     "duration": 0.02729,
     "end_time": "2023-07-14T08:16:36.282784",
     "exception": false,
     "start_time": "2023-07-14T08:16:36.255494",
     "status": "completed"
    },
    "tags": []
   },
   "outputs": [
    {
     "data": {
      "text/plain": [
       "list"
      ]
     },
     "execution_count": 12,
     "metadata": {},
     "output_type": "execute_result"
    }
   ],
   "source": [
    "type(news)"
   ]
  },
  {
   "cell_type": "code",
   "execution_count": 13,
   "id": "5b1e8318",
   "metadata": {
    "execution": {
     "iopub.execute_input": "2023-07-14T08:16:36.312806Z",
     "iopub.status.busy": "2023-07-14T08:16:36.312312Z",
     "iopub.status.idle": "2023-07-14T08:16:36.322511Z",
     "shell.execute_reply": "2023-07-14T08:16:36.320700Z"
    },
    "id": "2ulIb17feYqi",
    "outputId": "db09738d-692f-4cb6-c7b7-95649565d896",
    "papermill": {
     "duration": 0.029244,
     "end_time": "2023-07-14T08:16:36.326441",
     "exception": false,
     "start_time": "2023-07-14T08:16:36.297197",
     "status": "completed"
    },
    "tags": []
   },
   "outputs": [
    {
     "data": {
      "text/plain": [
       "\"McIlroy's men catch cold from Gudjonsson Obituary: Brian Walsh Workplace blues leave employers in the red Classical review: Rattle Dance review: Merce Cunningham Genetic tests to be used in setting premiums Opera review: La Bohème Pop review: Britney Spears Theatre review: The Circle Wales face a fraught night Under-21  round-up Smith off to blot his copybook Finns taking the mickey Praise wasted as Brown studies injury options Ireland wary of minnows Finland 0 - 0 England Healy a marked man Happy birthday Harpers & Queen Win unlimited access to the Raindance film festival Labour pledges £800m to bridge north-south divide Wales: Lib-Lab pact firm despite resignation Donald Dewar Regenerating homes  regenerates well-being in people Win £100 worth of underwear TV guide: Random views\""
      ]
     },
     "execution_count": 13,
     "metadata": {},
     "output_type": "execute_result"
    }
   ],
   "source": [
    "news[0]"
   ]
  },
  {
   "cell_type": "markdown",
   "id": "13d04719",
   "metadata": {
    "id": "2jXJpdAuiwYW",
    "papermill": {
     "duration": 0.012091,
     "end_time": "2023-07-14T08:16:36.351442",
     "exception": false,
     "start_time": "2023-07-14T08:16:36.339351",
     "status": "completed"
    },
    "tags": []
   },
   "source": [
    "## **Define Target Variable (y) and Feature Variables (X)**"
   ]
  },
  {
   "cell_type": "code",
   "execution_count": 14,
   "id": "41914f31",
   "metadata": {
    "execution": {
     "iopub.execute_input": "2023-07-14T08:16:36.381026Z",
     "iopub.status.busy": "2023-07-14T08:16:36.380562Z",
     "iopub.status.idle": "2023-07-14T08:16:36.386485Z",
     "shell.execute_reply": "2023-07-14T08:16:36.385160Z"
    },
    "id": "QBCakTuli57t",
    "papermill": {
     "duration": 0.025458,
     "end_time": "2023-07-14T08:16:36.389806",
     "exception": false,
     "start_time": "2023-07-14T08:16:36.364348",
     "status": "completed"
    },
    "tags": []
   },
   "outputs": [],
   "source": [
    "X = news"
   ]
  },
  {
   "cell_type": "code",
   "execution_count": 15,
   "id": "4717160a",
   "metadata": {
    "execution": {
     "iopub.execute_input": "2023-07-14T08:16:36.417202Z",
     "iopub.status.busy": "2023-07-14T08:16:36.416702Z",
     "iopub.status.idle": "2023-07-14T08:16:36.423906Z",
     "shell.execute_reply": "2023-07-14T08:16:36.422944Z"
    },
    "id": "5_9HJR0oe6sc",
    "outputId": "8f8ebad6-2512-4440-dad7-e72467ff83de",
    "papermill": {
     "duration": 0.0232,
     "end_time": "2023-07-14T08:16:36.426056",
     "exception": false,
     "start_time": "2023-07-14T08:16:36.402856",
     "status": "completed"
    },
    "tags": []
   },
   "outputs": [
    {
     "data": {
      "text/plain": [
       "list"
      ]
     },
     "execution_count": 15,
     "metadata": {},
     "output_type": "execute_result"
    }
   ],
   "source": [
    "type(X)"
   ]
  },
  {
   "cell_type": "code",
   "execution_count": 16,
   "id": "793d6b33",
   "metadata": {
    "execution": {
     "iopub.execute_input": "2023-07-14T08:16:36.454907Z",
     "iopub.status.busy": "2023-07-14T08:16:36.454407Z",
     "iopub.status.idle": "2023-07-14T08:16:36.460066Z",
     "shell.execute_reply": "2023-07-14T08:16:36.458741Z"
    },
    "id": "epu2jc3IjJP5",
    "papermill": {
     "duration": 0.023855,
     "end_time": "2023-07-14T08:16:36.462840",
     "exception": false,
     "start_time": "2023-07-14T08:16:36.438985",
     "status": "completed"
    },
    "tags": []
   },
   "outputs": [],
   "source": [
    "y = df['Label']"
   ]
  },
  {
   "cell_type": "code",
   "execution_count": 17,
   "id": "ad8108ea",
   "metadata": {
    "execution": {
     "iopub.execute_input": "2023-07-14T08:16:36.491151Z",
     "iopub.status.busy": "2023-07-14T08:16:36.490684Z",
     "iopub.status.idle": "2023-07-14T08:16:36.497368Z",
     "shell.execute_reply": "2023-07-14T08:16:36.496288Z"
    },
    "id": "B51ZswiXjNPa",
    "outputId": "6a5b9e03-22c8-431b-90c0-79663a446331",
    "papermill": {
     "duration": 0.022886,
     "end_time": "2023-07-14T08:16:36.499996",
     "exception": false,
     "start_time": "2023-07-14T08:16:36.477110",
     "status": "completed"
    },
    "tags": []
   },
   "outputs": [
    {
     "data": {
      "text/plain": [
       "(4101,)"
      ]
     },
     "execution_count": 17,
     "metadata": {},
     "output_type": "execute_result"
    }
   ],
   "source": [
    "y.shape"
   ]
  },
  {
   "cell_type": "markdown",
   "id": "b47bae9e",
   "metadata": {
    "id": "ViBrHJVNfHBY",
    "papermill": {
     "duration": 0.013237,
     "end_time": "2023-07-14T08:16:36.527399",
     "exception": false,
     "start_time": "2023-07-14T08:16:36.514162",
     "status": "completed"
    },
    "tags": []
   },
   "source": [
    "#**Get Feature Text Conversion to Bag of Words**"
   ]
  },
  {
   "cell_type": "code",
   "execution_count": 18,
   "id": "10dc2a43",
   "metadata": {
    "execution": {
     "iopub.execute_input": "2023-07-14T08:16:36.553731Z",
     "iopub.status.busy": "2023-07-14T08:16:36.553256Z",
     "iopub.status.idle": "2023-07-14T08:16:38.222518Z",
     "shell.execute_reply": "2023-07-14T08:16:38.221237Z"
    },
    "id": "tP61TRnGe-ER",
    "papermill": {
     "duration": 1.68593,
     "end_time": "2023-07-14T08:16:38.225576",
     "exception": false,
     "start_time": "2023-07-14T08:16:36.539646",
     "status": "completed"
    },
    "tags": []
   },
   "outputs": [],
   "source": [
    "from sklearn.feature_extraction.text import CountVectorizer"
   ]
  },
  {
   "cell_type": "code",
   "execution_count": 19,
   "id": "39eb55cf",
   "metadata": {
    "execution": {
     "iopub.execute_input": "2023-07-14T08:16:38.253667Z",
     "iopub.status.busy": "2023-07-14T08:16:38.252476Z",
     "iopub.status.idle": "2023-07-14T08:16:38.259031Z",
     "shell.execute_reply": "2023-07-14T08:16:38.257623Z"
    },
    "id": "sEAaAvaGivB6",
    "papermill": {
     "duration": 0.023803,
     "end_time": "2023-07-14T08:16:38.261660",
     "exception": false,
     "start_time": "2023-07-14T08:16:38.237857",
     "status": "completed"
    },
    "tags": []
   },
   "outputs": [],
   "source": [
    "cv = CountVectorizer(lowercase = True, ngram_range=(1,1))"
   ]
  },
  {
   "cell_type": "code",
   "execution_count": 20,
   "id": "977bac93",
   "metadata": {
    "execution": {
     "iopub.execute_input": "2023-07-14T08:16:38.290416Z",
     "iopub.status.busy": "2023-07-14T08:16:38.289957Z",
     "iopub.status.idle": "2023-07-14T08:16:39.668188Z",
     "shell.execute_reply": "2023-07-14T08:16:39.666881Z"
    },
    "id": "VXpAbSNai7n1",
    "papermill": {
     "duration": 1.396187,
     "end_time": "2023-07-14T08:16:39.671208",
     "exception": false,
     "start_time": "2023-07-14T08:16:38.275021",
     "status": "completed"
    },
    "tags": []
   },
   "outputs": [],
   "source": [
    "X = cv.fit_transform(X)"
   ]
  },
  {
   "cell_type": "code",
   "execution_count": 21,
   "id": "dc0b6648",
   "metadata": {
    "execution": {
     "iopub.execute_input": "2023-07-14T08:16:39.698897Z",
     "iopub.status.busy": "2023-07-14T08:16:39.698151Z",
     "iopub.status.idle": "2023-07-14T08:16:39.706031Z",
     "shell.execute_reply": "2023-07-14T08:16:39.705055Z"
    },
    "id": "MGt2-1eojByT",
    "outputId": "e0519224-b3d2-4d00-eda8-45ed13bddee5",
    "papermill": {
     "duration": 0.023913,
     "end_time": "2023-07-14T08:16:39.708292",
     "exception": false,
     "start_time": "2023-07-14T08:16:39.684379",
     "status": "completed"
    },
    "tags": []
   },
   "outputs": [
    {
     "data": {
      "text/plain": [
       "(4101, 48527)"
      ]
     },
     "execution_count": 21,
     "metadata": {},
     "output_type": "execute_result"
    }
   ],
   "source": [
    "X.shape"
   ]
  },
  {
   "cell_type": "markdown",
   "id": "8dc0a4e3",
   "metadata": {
    "id": "90_0q_Pbi658",
    "papermill": {
     "duration": 0.01231,
     "end_time": "2023-07-14T08:16:39.732873",
     "exception": false,
     "start_time": "2023-07-14T08:16:39.720563",
     "status": "completed"
    },
    "tags": []
   },
   "source": [
    "## **Train Test Split**"
   ]
  },
  {
   "cell_type": "code",
   "execution_count": 22,
   "id": "b2add74e",
   "metadata": {
    "execution": {
     "iopub.execute_input": "2023-07-14T08:16:39.760757Z",
     "iopub.status.busy": "2023-07-14T08:16:39.759043Z",
     "iopub.status.idle": "2023-07-14T08:16:39.887892Z",
     "shell.execute_reply": "2023-07-14T08:16:39.886590Z"
    },
    "id": "u60YYaOFi-Dw",
    "papermill": {
     "duration": 0.146371,
     "end_time": "2023-07-14T08:16:39.891496",
     "exception": false,
     "start_time": "2023-07-14T08:16:39.745125",
     "status": "completed"
    },
    "tags": []
   },
   "outputs": [],
   "source": [
    "from sklearn.model_selection import train_test_split"
   ]
  },
  {
   "cell_type": "code",
   "execution_count": 23,
   "id": "cb828c55",
   "metadata": {
    "execution": {
     "iopub.execute_input": "2023-07-14T08:16:39.920124Z",
     "iopub.status.busy": "2023-07-14T08:16:39.919216Z",
     "iopub.status.idle": "2023-07-14T08:16:39.936297Z",
     "shell.execute_reply": "2023-07-14T08:16:39.934980Z"
    },
    "id": "Sno8eG10jZ1S",
    "papermill": {
     "duration": 0.03493,
     "end_time": "2023-07-14T08:16:39.939301",
     "exception": false,
     "start_time": "2023-07-14T08:16:39.904371",
     "status": "completed"
    },
    "tags": []
   },
   "outputs": [],
   "source": [
    "X_train,X_test,y_train,y_test = train_test_split(X,y,test_size=0.3,stratify= y ,random_state=42)"
   ]
  },
  {
   "cell_type": "markdown",
   "id": "c40f59d4",
   "metadata": {
    "id": "cIhyseNria7W",
    "papermill": {
     "duration": 0.011702,
     "end_time": "2023-07-14T08:16:39.963471",
     "exception": false,
     "start_time": "2023-07-14T08:16:39.951769",
     "status": "completed"
    },
    "tags": []
   },
   "source": [
    "## **Modeling**"
   ]
  },
  {
   "cell_type": "code",
   "execution_count": 24,
   "id": "47dafbef",
   "metadata": {
    "execution": {
     "iopub.execute_input": "2023-07-14T08:16:39.992410Z",
     "iopub.status.busy": "2023-07-14T08:16:39.991718Z",
     "iopub.status.idle": "2023-07-14T08:16:40.485141Z",
     "shell.execute_reply": "2023-07-14T08:16:40.483892Z"
    },
    "id": "Toq58wpkjCw7",
    "papermill": {
     "duration": 0.513135,
     "end_time": "2023-07-14T08:16:40.488626",
     "exception": false,
     "start_time": "2023-07-14T08:16:39.975491",
     "status": "completed"
    },
    "tags": []
   },
   "outputs": [],
   "source": [
    "from sklearn.ensemble import RandomForestClassifier"
   ]
  },
  {
   "cell_type": "code",
   "execution_count": 25,
   "id": "a5852c37",
   "metadata": {
    "execution": {
     "iopub.execute_input": "2023-07-14T08:16:40.517834Z",
     "iopub.status.busy": "2023-07-14T08:16:40.517105Z",
     "iopub.status.idle": "2023-07-14T08:16:40.522431Z",
     "shell.execute_reply": "2023-07-14T08:16:40.521469Z"
    },
    "id": "kwldf-7-j16U",
    "papermill": {
     "duration": 0.022474,
     "end_time": "2023-07-14T08:16:40.525000",
     "exception": false,
     "start_time": "2023-07-14T08:16:40.502526",
     "status": "completed"
    },
    "tags": []
   },
   "outputs": [],
   "source": [
    "model = RandomForestClassifier()"
   ]
  },
  {
   "cell_type": "code",
   "execution_count": 26,
   "id": "2154233e",
   "metadata": {
    "execution": {
     "iopub.execute_input": "2023-07-14T08:16:40.553009Z",
     "iopub.status.busy": "2023-07-14T08:16:40.552214Z",
     "iopub.status.idle": "2023-07-14T08:16:49.516275Z",
     "shell.execute_reply": "2023-07-14T08:16:49.514698Z"
    },
    "id": "AjncuO6gj58y",
    "outputId": "73b49e6a-d375-4724-e2e8-5bcafc24d2a6",
    "papermill": {
     "duration": 8.982583,
     "end_time": "2023-07-14T08:16:49.519922",
     "exception": false,
     "start_time": "2023-07-14T08:16:40.537339",
     "status": "completed"
    },
    "tags": []
   },
   "outputs": [
    {
     "data": {
      "text/html": [
       "<style>#sk-container-id-1 {color: black;background-color: white;}#sk-container-id-1 pre{padding: 0;}#sk-container-id-1 div.sk-toggleable {background-color: white;}#sk-container-id-1 label.sk-toggleable__label {cursor: pointer;display: block;width: 100%;margin-bottom: 0;padding: 0.3em;box-sizing: border-box;text-align: center;}#sk-container-id-1 label.sk-toggleable__label-arrow:before {content: \"▸\";float: left;margin-right: 0.25em;color: #696969;}#sk-container-id-1 label.sk-toggleable__label-arrow:hover:before {color: black;}#sk-container-id-1 div.sk-estimator:hover label.sk-toggleable__label-arrow:before {color: black;}#sk-container-id-1 div.sk-toggleable__content {max-height: 0;max-width: 0;overflow: hidden;text-align: left;background-color: #f0f8ff;}#sk-container-id-1 div.sk-toggleable__content pre {margin: 0.2em;color: black;border-radius: 0.25em;background-color: #f0f8ff;}#sk-container-id-1 input.sk-toggleable__control:checked~div.sk-toggleable__content {max-height: 200px;max-width: 100%;overflow: auto;}#sk-container-id-1 input.sk-toggleable__control:checked~label.sk-toggleable__label-arrow:before {content: \"▾\";}#sk-container-id-1 div.sk-estimator input.sk-toggleable__control:checked~label.sk-toggleable__label {background-color: #d4ebff;}#sk-container-id-1 div.sk-label input.sk-toggleable__control:checked~label.sk-toggleable__label {background-color: #d4ebff;}#sk-container-id-1 input.sk-hidden--visually {border: 0;clip: rect(1px 1px 1px 1px);clip: rect(1px, 1px, 1px, 1px);height: 1px;margin: -1px;overflow: hidden;padding: 0;position: absolute;width: 1px;}#sk-container-id-1 div.sk-estimator {font-family: monospace;background-color: #f0f8ff;border: 1px dotted black;border-radius: 0.25em;box-sizing: border-box;margin-bottom: 0.5em;}#sk-container-id-1 div.sk-estimator:hover {background-color: #d4ebff;}#sk-container-id-1 div.sk-parallel-item::after {content: \"\";width: 100%;border-bottom: 1px solid gray;flex-grow: 1;}#sk-container-id-1 div.sk-label:hover label.sk-toggleable__label {background-color: #d4ebff;}#sk-container-id-1 div.sk-serial::before {content: \"\";position: absolute;border-left: 1px solid gray;box-sizing: border-box;top: 0;bottom: 0;left: 50%;z-index: 0;}#sk-container-id-1 div.sk-serial {display: flex;flex-direction: column;align-items: center;background-color: white;padding-right: 0.2em;padding-left: 0.2em;position: relative;}#sk-container-id-1 div.sk-item {position: relative;z-index: 1;}#sk-container-id-1 div.sk-parallel {display: flex;align-items: stretch;justify-content: center;background-color: white;position: relative;}#sk-container-id-1 div.sk-item::before, #sk-container-id-1 div.sk-parallel-item::before {content: \"\";position: absolute;border-left: 1px solid gray;box-sizing: border-box;top: 0;bottom: 0;left: 50%;z-index: -1;}#sk-container-id-1 div.sk-parallel-item {display: flex;flex-direction: column;z-index: 1;position: relative;background-color: white;}#sk-container-id-1 div.sk-parallel-item:first-child::after {align-self: flex-end;width: 50%;}#sk-container-id-1 div.sk-parallel-item:last-child::after {align-self: flex-start;width: 50%;}#sk-container-id-1 div.sk-parallel-item:only-child::after {width: 0;}#sk-container-id-1 div.sk-dashed-wrapped {border: 1px dashed gray;margin: 0 0.4em 0.5em 0.4em;box-sizing: border-box;padding-bottom: 0.4em;background-color: white;}#sk-container-id-1 div.sk-label label {font-family: monospace;font-weight: bold;display: inline-block;line-height: 1.2em;}#sk-container-id-1 div.sk-label-container {text-align: center;}#sk-container-id-1 div.sk-container {/* jupyter's `normalize.less` sets `[hidden] { display: none; }` but bootstrap.min.css set `[hidden] { display: none !important; }` so we also need the `!important` here to be able to override the default hidden behavior on the sphinx rendered scikit-learn.org. See: https://github.com/scikit-learn/scikit-learn/issues/21755 */display: inline-block !important;position: relative;}#sk-container-id-1 div.sk-text-repr-fallback {display: none;}</style><div id=\"sk-container-id-1\" class=\"sk-top-container\"><div class=\"sk-text-repr-fallback\"><pre>RandomForestClassifier()</pre><b>In a Jupyter environment, please rerun this cell to show the HTML representation or trust the notebook. <br />On GitHub, the HTML representation is unable to render, please try loading this page with nbviewer.org.</b></div><div class=\"sk-container\" hidden><div class=\"sk-item\"><div class=\"sk-estimator sk-toggleable\"><input class=\"sk-toggleable__control sk-hidden--visually\" id=\"sk-estimator-id-1\" type=\"checkbox\" checked><label for=\"sk-estimator-id-1\" class=\"sk-toggleable__label sk-toggleable__label-arrow\">RandomForestClassifier</label><div class=\"sk-toggleable__content\"><pre>RandomForestClassifier()</pre></div></div></div></div></div>"
      ],
      "text/plain": [
       "RandomForestClassifier()"
      ]
     },
     "execution_count": 26,
     "metadata": {},
     "output_type": "execute_result"
    }
   ],
   "source": [
    "model.fit(X_train,y_train)"
   ]
  },
  {
   "cell_type": "markdown",
   "id": "a77628e5",
   "metadata": {
    "id": "8AzwG7oLjiQI",
    "papermill": {
     "duration": 0.012979,
     "end_time": "2023-07-14T08:16:49.546081",
     "exception": false,
     "start_time": "2023-07-14T08:16:49.533102",
     "status": "completed"
    },
    "tags": []
   },
   "source": [
    "## **Prediction**"
   ]
  },
  {
   "cell_type": "code",
   "execution_count": 27,
   "id": "2faef932",
   "metadata": {
    "execution": {
     "iopub.execute_input": "2023-07-14T08:16:49.572845Z",
     "iopub.status.busy": "2023-07-14T08:16:49.572399Z",
     "iopub.status.idle": "2023-07-14T08:16:49.782098Z",
     "shell.execute_reply": "2023-07-14T08:16:49.780764Z"
    },
    "id": "PYG3ItYqkFct",
    "papermill": {
     "duration": 0.226631,
     "end_time": "2023-07-14T08:16:49.785050",
     "exception": false,
     "start_time": "2023-07-14T08:16:49.558419",
     "status": "completed"
    },
    "tags": []
   },
   "outputs": [],
   "source": [
    "y_pred = model.predict(X_test)"
   ]
  },
  {
   "cell_type": "markdown",
   "id": "5a081827",
   "metadata": {
    "id": "vhAwWfG0jFun",
    "papermill": {
     "duration": 0.01199,
     "end_time": "2023-07-14T08:16:49.810650",
     "exception": false,
     "start_time": "2023-07-14T08:16:49.798660",
     "status": "completed"
    },
    "tags": []
   },
   "source": [
    "## **Model Evaluation**"
   ]
  },
  {
   "cell_type": "code",
   "execution_count": 28,
   "id": "5227d602",
   "metadata": {
    "execution": {
     "iopub.execute_input": "2023-07-14T08:16:49.838707Z",
     "iopub.status.busy": "2023-07-14T08:16:49.838187Z",
     "iopub.status.idle": "2023-07-14T08:16:49.843925Z",
     "shell.execute_reply": "2023-07-14T08:16:49.842420Z"
    },
    "id": "lND3jJj_jhx4",
    "papermill": {
     "duration": 0.023034,
     "end_time": "2023-07-14T08:16:49.846540",
     "exception": false,
     "start_time": "2023-07-14T08:16:49.823506",
     "status": "completed"
    },
    "tags": []
   },
   "outputs": [],
   "source": [
    "from sklearn.metrics import classification_report,confusion_matrix,accuracy_score"
   ]
  },
  {
   "cell_type": "code",
   "execution_count": 29,
   "id": "4148be51",
   "metadata": {
    "execution": {
     "iopub.execute_input": "2023-07-14T08:16:49.876214Z",
     "iopub.status.busy": "2023-07-14T08:16:49.875771Z",
     "iopub.status.idle": "2023-07-14T08:16:49.887010Z",
     "shell.execute_reply": "2023-07-14T08:16:49.885407Z"
    },
    "id": "Z7pgE06vkfP_",
    "outputId": "65499c97-b73e-4bc6-e615-0067f96f597a",
    "papermill": {
     "duration": 0.029641,
     "end_time": "2023-07-14T08:16:49.889748",
     "exception": false,
     "start_time": "2023-07-14T08:16:49.860107",
     "status": "completed"
    },
    "tags": []
   },
   "outputs": [
    {
     "data": {
      "text/plain": [
       "array([[189, 206],\n",
       "       [392, 444]])"
      ]
     },
     "execution_count": 29,
     "metadata": {},
     "output_type": "execute_result"
    }
   ],
   "source": [
    "confusion_matrix(y_pred,y_test)"
   ]
  },
  {
   "cell_type": "code",
   "execution_count": 30,
   "id": "8d1b3293",
   "metadata": {
    "execution": {
     "iopub.execute_input": "2023-07-14T08:16:49.917621Z",
     "iopub.status.busy": "2023-07-14T08:16:49.916684Z",
     "iopub.status.idle": "2023-07-14T08:16:49.934036Z",
     "shell.execute_reply": "2023-07-14T08:16:49.932458Z"
    },
    "id": "N6b1036NkoI0",
    "outputId": "953997a9-1a8f-40a8-b610-1492589c0109",
    "papermill": {
     "duration": 0.033906,
     "end_time": "2023-07-14T08:16:49.936540",
     "exception": false,
     "start_time": "2023-07-14T08:16:49.902634",
     "status": "completed"
    },
    "tags": []
   },
   "outputs": [
    {
     "name": "stdout",
     "output_type": "stream",
     "text": [
      "              precision    recall  f1-score   support\n",
      "\n",
      "           0       0.33      0.48      0.39       395\n",
      "           1       0.68      0.53      0.60       836\n",
      "\n",
      "    accuracy                           0.51      1231\n",
      "   macro avg       0.50      0.50      0.49      1231\n",
      "weighted avg       0.57      0.51      0.53      1231\n",
      "\n"
     ]
    }
   ],
   "source": [
    "print(classification_report(y_pred,y_test))"
   ]
  },
  {
   "cell_type": "code",
   "execution_count": 31,
   "id": "a55268a9",
   "metadata": {
    "execution": {
     "iopub.execute_input": "2023-07-14T08:16:49.966136Z",
     "iopub.status.busy": "2023-07-14T08:16:49.965684Z",
     "iopub.status.idle": "2023-07-14T08:16:49.975614Z",
     "shell.execute_reply": "2023-07-14T08:16:49.974332Z"
    },
    "id": "sZsJLJ1WktzO",
    "outputId": "c24efc07-f80a-4a7b-b4bb-e6d954a6dc5e",
    "papermill": {
     "duration": 0.028212,
     "end_time": "2023-07-14T08:16:49.978170",
     "exception": false,
     "start_time": "2023-07-14T08:16:49.949958",
     "status": "completed"
    },
    "tags": []
   },
   "outputs": [
    {
     "data": {
      "text/plain": [
       "0.5142160844841592"
      ]
     },
     "execution_count": 31,
     "metadata": {},
     "output_type": "execute_result"
    }
   ],
   "source": [
    "accuracy_score(y_pred,y_test)"
   ]
  },
  {
   "cell_type": "markdown",
   "id": "618c5958",
   "metadata": {
    "id": "SBo38CJZjlEX",
    "papermill": {
     "duration": 0.012586,
     "end_time": "2023-07-14T08:16:50.005373",
     "exception": false,
     "start_time": "2023-07-14T08:16:49.992787",
     "status": "completed"
    },
    "tags": []
   },
   "source": [
    "## **Explaination**"
   ]
  },
  {
   "cell_type": "markdown",
   "id": "e6141e0d",
   "metadata": {
    "id": "Ybi8FR9Kjv00",
    "papermill": {
     "duration": 0.01395,
     "end_time": "2023-07-14T08:16:50.032224",
     "exception": false,
     "start_time": "2023-07-14T08:16:50.018274",
     "status": "completed"
    },
    "tags": []
   },
   "source": [
    "Overall, the code demonstrates a basic pipeline for financial market news sentiment analysis, including data loading, visualization, preprocessing, feature extraction, model training, and evaluation. However, it's important to note that the performance of the model and the results obtained may vary depending on the specific dataset and the chosen machine learning algorithm. Further optimization and fine-tuning may be required to improve the model's accuracy and predictive capabilities."
   ]
  }
 ],
 "metadata": {
  "kernelspec": {
   "display_name": "Python 3",
   "language": "python",
   "name": "python3"
  },
  "language_info": {
   "codemirror_mode": {
    "name": "ipython",
    "version": 3
   },
   "file_extension": ".py",
   "mimetype": "text/x-python",
   "name": "python",
   "nbconvert_exporter": "python",
   "pygments_lexer": "ipython3",
   "version": "3.10.10"
  },
  "papermill": {
   "default_parameters": {},
   "duration": 34.181154,
   "end_time": "2023-07-14T08:16:51.573098",
   "environment_variables": {},
   "exception": null,
   "input_path": "__notebook__.ipynb",
   "output_path": "__notebook__.ipynb",
   "parameters": {},
   "start_time": "2023-07-14T08:16:17.391944",
   "version": "2.4.0"
  }
 },
 "nbformat": 4,
 "nbformat_minor": 5
}
